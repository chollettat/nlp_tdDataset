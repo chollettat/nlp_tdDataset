{
  "nbformat": 4,
  "nbformat_minor": 0,
  "metadata": {
    "kernelspec": {
      "display_name": "Python 3",
      "language": "python",
      "name": "python3"
    },
    "language_info": {
      "codemirror_mode": {
        "name": "ipython",
        "version": 3
      },
      "file_extension": ".py",
      "mimetype": "text/x-python",
      "name": "python",
      "nbconvert_exporter": "python",
      "pygments_lexer": "ipython3",
      "version": "3.8.3"
    },
    "colab": {
      "name": "PCA",
      "provenance": [],
      "collapsed_sections": []
    }
  },
  "cells": [
    {
      "cell_type": "markdown",
      "metadata": {
        "id": "6yEFRAXsLdMq"
      },
      "source": [
        "Voici les librairies utile pour le bon fonctionnement du code :"
      ]
    },
    {
      "cell_type": "code",
      "metadata": {
        "id": "SlmXrNanLh_w",
        "colab": {
          "base_uri": "https://localhost:8080/"
        },
        "outputId": "a2b0c1fc-a100-4245-b21a-ece2531bbc07"
      },
      "source": [
        "from google.colab import drive\n",
        "drive.mount('/content/drive')"
      ],
      "execution_count": null,
      "outputs": [
        {
          "output_type": "stream",
          "text": [
            "Mounted at /content/drive\n"
          ],
          "name": "stdout"
        }
      ]
    },
    {
      "cell_type": "code",
      "metadata": {
        "id": "SoGqF-__LdMr",
        "colab": {
          "base_uri": "https://localhost:8080/"
        },
        "outputId": "fd78b592-9068-42f2-b4d0-9a49332d9c8d"
      },
      "source": [
        "import pandas as pd\n",
        "import numpy as np\n",
        "import string\n",
        "import re\n",
        "import nltk\n",
        "from nltk.corpus import stopwords\n",
        "from nltk.stem import PorterStemmer\n",
        "import nltk\n",
        "nltk.download('punkt')\n",
        "\n",
        "from sklearn.decomposition import PCA\n",
        "\n",
        "#Initialising model instance\n",
        "pca=PCA(.95)"
      ],
      "execution_count": null,
      "outputs": [
        {
          "output_type": "stream",
          "text": [
            "[nltk_data] Downloading package punkt to /root/nltk_data...\n",
            "[nltk_data]   Unzipping tokenizers/punkt.zip.\n"
          ],
          "name": "stdout"
        }
      ]
    },
    {
      "cell_type": "markdown",
      "metadata": {
        "id": "LmYWagxja5z2"
      },
      "source": [
        "Preprocessing:"
      ]
    },
    {
      "cell_type": "code",
      "metadata": {
        "colab": {
          "base_uri": "https://localhost:8080/"
        },
        "id": "go3Xl3w5a3dy",
        "outputId": "fd1a2e7e-5d81-4a31-9411-8905b9d43e75"
      },
      "source": [
        "stemming = PorterStemmer()\n",
        "nltk.download('stopwords')\n",
        "stops = set(stopwords.words(\"english\"))\n",
        "def Cremove_stops(row):\n",
        "    my_list = row['comment']\n",
        "    meaningful_words = [w for w in my_list if not w in stops]\n",
        "    return (meaningful_words)\n",
        "\n",
        "def Cstem_list(row):\n",
        "    my_list = row['comment']\n",
        "    stemmed_list = [stemming.stem(word) for word in my_list]\n",
        "    return (stemmed_list)\n",
        "\n",
        "def Cidentify_tokens(row):\n",
        "    review = row['comment']\n",
        "    tokens = nltk.word_tokenize(review)\n",
        "    # taken only words (not punctuation)\n",
        "    token_words = [w for w in tokens if w.isalpha()]\n",
        "    return token_words\n",
        "\n",
        "def Premove_stops(row):\n",
        "    my_list = row['parent_comment']\n",
        "    meaningful_words = [w for w in my_list if not w in stops]\n",
        "    return (meaningful_words)\n",
        "\n",
        "def Pstem_list(row):\n",
        "    my_list = row['parent_comment']\n",
        "    stemmed_list = [stemming.stem(word) for word in my_list]\n",
        "    return (stemmed_list)\n",
        "\n",
        "def Pidentify_tokens(row):\n",
        "    review = row['parent_comment']\n",
        "    tokens = nltk.word_tokenize(review)\n",
        "    # taken only words (not punctuation)\n",
        "    token_words = [w for w in tokens if w.isalpha()]\n",
        "    return token_words"
      ],
      "execution_count": null,
      "outputs": [
        {
          "output_type": "stream",
          "text": [
            "[nltk_data] Downloading package stopwords to /root/nltk_data...\n",
            "[nltk_data]   Unzipping corpora/stopwords.zip.\n"
          ],
          "name": "stdout"
        }
      ]
    },
    {
      "cell_type": "markdown",
      "metadata": {
        "id": "Gwtq8t2NLdM5"
      },
      "source": [
        "On va effectuer deux preprocessing différents, c'est pour quoi on prend de dataframes."
      ]
    },
    {
      "cell_type": "code",
      "metadata": {
        "id": "oCOK5-GiLdM7"
      },
      "source": [
        "#df = pd.read_csv(\"/content/drive/My Drive/NLPW/Train.csv\", usecols=[1,3,4,5,6,7,9],header=0)\n"
      ],
      "execution_count": null,
      "outputs": []
    },
    {
      "cell_type": "markdown",
      "metadata": {
        "id": "cbVZAT36LdM_"
      },
      "source": [
        "On applique tout sur df, pour faire un premier preprocessing."
      ]
    },
    {
      "cell_type": "code",
      "metadata": {
        "colab": {
          "base_uri": "https://localhost:8080/"
        },
        "id": "GMNP7ZPCZKaf",
        "outputId": "0a7612cb-93b8-4455-a678-f9c88b22b992"
      },
      "source": [
        "dfnb = pd.read_csv(\"/content/drive/My Drive/NLPW/Train.csv\", usecols=[1,4,5,9],header=0)\n",
        "\n",
        "#dfnb['comment'] = dfnb.apply(Cidentify_tokens, axis=1)\n",
        "#dfnb['comment'] = dfnb.apply(Cremove_stops, axis=1)\n",
        "#dfnb['comment'] = dfnb.apply(Cstem_list, axis=1)\n",
        "\n",
        "print(dfnb['comment'])\n"
      ],
      "execution_count": 29,
      "outputs": [
        {
          "output_type": "stream",
          "text": [
            "0        Well, let's be honest here, they don't actuall...\n",
            "1        Well, I didn't need evidence to believe in com...\n",
            "2                    Who does an \"official promo\" in 360p?\n",
            "3                                 Grotto koth was the best\n",
            "4                                         Neal's back baby\n",
            "                               ...                        \n",
            "14995    Well with a name like El Cubano I'm surprised ...\n",
            "14996                            ... This is a good point.\n",
            "14997                                                 Yep.\n",
            "14998     That's what the government WANTS you to believe!\n",
            "14999    because Windows 10 has the glorious start menu...\n",
            "Name: comment, Length: 15000, dtype: object\n"
          ],
          "name": "stdout"
        }
      ]
    },
    {
      "cell_type": "code",
      "metadata": {
        "colab": {
          "base_uri": "https://localhost:8080/"
        },
        "id": "r-sHknp_9IfE",
        "outputId": "8fc41635-8f83-45cd-9f10-fb1c6c61d39d"
      },
      "source": [
        "dfnb.isnull().sum()"
      ],
      "execution_count": 30,
      "outputs": [
        {
          "output_type": "execute_result",
          "data": {
            "text/plain": [
              "comment           0\n",
              "parent_comment    0\n",
              "score             0\n",
              "label             0\n",
              "dtype: int64"
            ]
          },
          "metadata": {
            "tags": []
          },
          "execution_count": 30
        }
      ]
    },
    {
      "cell_type": "markdown",
      "metadata": {
        "id": "7ScqRC0d8r8q"
      },
      "source": [
        "On garde qu'une partie de data en question:"
      ]
    },
    {
      "cell_type": "code",
      "metadata": {
        "colab": {
          "base_uri": "https://localhost:8080/",
          "height": 206
        },
        "id": "aIDa8if38rJc",
        "outputId": "30eca574-413d-4ee2-ac51-fc261a5a167c"
      },
      "source": [
        "df=dfnb.drop(['parent_comment','score'], axis=1) ##We could also simply load only needed columns while importing csv thanks to usecols\n",
        "df.head()"
      ],
      "execution_count": 31,
      "outputs": [
        {
          "output_type": "execute_result",
          "data": {
            "text/html": [
              "<div>\n",
              "<style scoped>\n",
              "    .dataframe tbody tr th:only-of-type {\n",
              "        vertical-align: middle;\n",
              "    }\n",
              "\n",
              "    .dataframe tbody tr th {\n",
              "        vertical-align: top;\n",
              "    }\n",
              "\n",
              "    .dataframe thead th {\n",
              "        text-align: right;\n",
              "    }\n",
              "</style>\n",
              "<table border=\"1\" class=\"dataframe\">\n",
              "  <thead>\n",
              "    <tr style=\"text-align: right;\">\n",
              "      <th></th>\n",
              "      <th>comment</th>\n",
              "      <th>label</th>\n",
              "    </tr>\n",
              "  </thead>\n",
              "  <tbody>\n",
              "    <tr>\n",
              "      <th>0</th>\n",
              "      <td>Well, let's be honest here, they don't actuall...</td>\n",
              "      <td>0</td>\n",
              "    </tr>\n",
              "    <tr>\n",
              "      <th>1</th>\n",
              "      <td>Well, I didn't need evidence to believe in com...</td>\n",
              "      <td>1</td>\n",
              "    </tr>\n",
              "    <tr>\n",
              "      <th>2</th>\n",
              "      <td>Who does an \"official promo\" in 360p?</td>\n",
              "      <td>0</td>\n",
              "    </tr>\n",
              "    <tr>\n",
              "      <th>3</th>\n",
              "      <td>Grotto koth was the best</td>\n",
              "      <td>1</td>\n",
              "    </tr>\n",
              "    <tr>\n",
              "      <th>4</th>\n",
              "      <td>Neal's back baby</td>\n",
              "      <td>1</td>\n",
              "    </tr>\n",
              "  </tbody>\n",
              "</table>\n",
              "</div>"
            ],
            "text/plain": [
              "                                             comment  label\n",
              "0  Well, let's be honest here, they don't actuall...      0\n",
              "1  Well, I didn't need evidence to believe in com...      1\n",
              "2              Who does an \"official promo\" in 360p?      0\n",
              "3                           Grotto koth was the best      1\n",
              "4                                   Neal's back baby      1"
            ]
          },
          "metadata": {
            "tags": []
          },
          "execution_count": 31
        }
      ]
    },
    {
      "cell_type": "code",
      "metadata": {
        "colab": {
          "base_uri": "https://localhost:8080/",
          "height": 206
        },
        "id": "ZOKT9oa6-aih",
        "outputId": "60e7dab1-f80b-4698-b7cd-151d8edb5671"
      },
      "source": [
        "#Preprocessing\n",
        "stop_words = set(stopwords.words('english'))\n",
        "\n",
        "df['comment'] = df['comment'].apply(lambda x: re.sub('[^a-z]', ' ', x.lower()))\n",
        "df['comment'] = df['comment'].apply(lambda x: re.sub(' +', ' ', x))\n",
        "df['comment'] = df['comment'].apply(lambda x: ' '.join([word for word in x.split() if word not in stopwords.words('english')]))\n",
        "\n",
        "df.head()"
      ],
      "execution_count": 32,
      "outputs": [
        {
          "output_type": "execute_result",
          "data": {
            "text/html": [
              "<div>\n",
              "<style scoped>\n",
              "    .dataframe tbody tr th:only-of-type {\n",
              "        vertical-align: middle;\n",
              "    }\n",
              "\n",
              "    .dataframe tbody tr th {\n",
              "        vertical-align: top;\n",
              "    }\n",
              "\n",
              "    .dataframe thead th {\n",
              "        text-align: right;\n",
              "    }\n",
              "</style>\n",
              "<table border=\"1\" class=\"dataframe\">\n",
              "  <thead>\n",
              "    <tr style=\"text-align: right;\">\n",
              "      <th></th>\n",
              "      <th>comment</th>\n",
              "      <th>label</th>\n",
              "    </tr>\n",
              "  </thead>\n",
              "  <tbody>\n",
              "    <tr>\n",
              "      <th>0</th>\n",
              "      <td>well let honest actually seem much moderating ...</td>\n",
              "      <td>0</td>\n",
              "    </tr>\n",
              "    <tr>\n",
              "      <th>1</th>\n",
              "      <td>well need evidence believe communism</td>\n",
              "      <td>1</td>\n",
              "    </tr>\n",
              "    <tr>\n",
              "      <th>2</th>\n",
              "      <td>official promo p</td>\n",
              "      <td>0</td>\n",
              "    </tr>\n",
              "    <tr>\n",
              "      <th>3</th>\n",
              "      <td>grotto koth best</td>\n",
              "      <td>1</td>\n",
              "    </tr>\n",
              "    <tr>\n",
              "      <th>4</th>\n",
              "      <td>neal back baby</td>\n",
              "      <td>1</td>\n",
              "    </tr>\n",
              "  </tbody>\n",
              "</table>\n",
              "</div>"
            ],
            "text/plain": [
              "                                             comment  label\n",
              "0  well let honest actually seem much moderating ...      0\n",
              "1               well need evidence believe communism      1\n",
              "2                                   official promo p      0\n",
              "3                                   grotto koth best      1\n",
              "4                                     neal back baby      1"
            ]
          },
          "metadata": {
            "tags": []
          },
          "execution_count": 32
        }
      ]
    },
    {
      "cell_type": "code",
      "metadata": {
        "colab": {
          "base_uri": "https://localhost:8080/",
          "height": 395
        },
        "id": "0ZV6FCDU9liy",
        "outputId": "d24e0d19-4292-4935-f0db-565d00de1004"
      },
      "source": [
        "#droping duplicates\n",
        "\n",
        "df=df.drop_duplicates()\n",
        "df=df.reset_index(drop=True)\n",
        "df.describe(include='all')"
      ],
      "execution_count": 33,
      "outputs": [
        {
          "output_type": "execute_result",
          "data": {
            "text/html": [
              "<div>\n",
              "<style scoped>\n",
              "    .dataframe tbody tr th:only-of-type {\n",
              "        vertical-align: middle;\n",
              "    }\n",
              "\n",
              "    .dataframe tbody tr th {\n",
              "        vertical-align: top;\n",
              "    }\n",
              "\n",
              "    .dataframe thead th {\n",
              "        text-align: right;\n",
              "    }\n",
              "</style>\n",
              "<table border=\"1\" class=\"dataframe\">\n",
              "  <thead>\n",
              "    <tr style=\"text-align: right;\">\n",
              "      <th></th>\n",
              "      <th>comment</th>\n",
              "      <th>label</th>\n",
              "    </tr>\n",
              "  </thead>\n",
              "  <tbody>\n",
              "    <tr>\n",
              "      <th>count</th>\n",
              "      <td>14462</td>\n",
              "      <td>14462.000000</td>\n",
              "    </tr>\n",
              "    <tr>\n",
              "      <th>unique</th>\n",
              "      <td>14388</td>\n",
              "      <td>NaN</td>\n",
              "    </tr>\n",
              "    <tr>\n",
              "      <th>top</th>\n",
              "      <td></td>\n",
              "      <td>NaN</td>\n",
              "    </tr>\n",
              "    <tr>\n",
              "      <th>freq</th>\n",
              "      <td>2</td>\n",
              "      <td>NaN</td>\n",
              "    </tr>\n",
              "    <tr>\n",
              "      <th>mean</th>\n",
              "      <td>NaN</td>\n",
              "      <td>0.506846</td>\n",
              "    </tr>\n",
              "    <tr>\n",
              "      <th>std</th>\n",
              "      <td>NaN</td>\n",
              "      <td>0.499970</td>\n",
              "    </tr>\n",
              "    <tr>\n",
              "      <th>min</th>\n",
              "      <td>NaN</td>\n",
              "      <td>0.000000</td>\n",
              "    </tr>\n",
              "    <tr>\n",
              "      <th>25%</th>\n",
              "      <td>NaN</td>\n",
              "      <td>0.000000</td>\n",
              "    </tr>\n",
              "    <tr>\n",
              "      <th>50%</th>\n",
              "      <td>NaN</td>\n",
              "      <td>1.000000</td>\n",
              "    </tr>\n",
              "    <tr>\n",
              "      <th>75%</th>\n",
              "      <td>NaN</td>\n",
              "      <td>1.000000</td>\n",
              "    </tr>\n",
              "    <tr>\n",
              "      <th>max</th>\n",
              "      <td>NaN</td>\n",
              "      <td>1.000000</td>\n",
              "    </tr>\n",
              "  </tbody>\n",
              "</table>\n",
              "</div>"
            ],
            "text/plain": [
              "       comment         label\n",
              "count    14462  14462.000000\n",
              "unique   14388           NaN\n",
              "top                      NaN\n",
              "freq         2           NaN\n",
              "mean       NaN      0.506846\n",
              "std        NaN      0.499970\n",
              "min        NaN      0.000000\n",
              "25%        NaN      0.000000\n",
              "50%        NaN      1.000000\n",
              "75%        NaN      1.000000\n",
              "max        NaN      1.000000"
            ]
          },
          "metadata": {
            "tags": []
          },
          "execution_count": 33
        }
      ]
    },
    {
      "cell_type": "code",
      "metadata": {
        "colab": {
          "base_uri": "https://localhost:8080/",
          "height": 225
        },
        "id": "LUbiipul_jNo",
        "outputId": "668e9bc5-b176-40f6-c558-1d672e2c3be7"
      },
      "source": [
        "#Splitting training/test sets\n",
        "from sklearn.model_selection import train_test_split\n",
        "\n",
        "df_train, df_test = train_test_split(df, test_size=0.25)\n",
        "df_train=df_train.reset_index(drop=True)\n",
        "df_test = df_test.reset_index(drop=True)\n",
        "print(df_train.shape, df_test.shape)\n",
        "df_train.head()"
      ],
      "execution_count": 45,
      "outputs": [
        {
          "output_type": "stream",
          "text": [
            "(10846, 2) (3616, 2)\n"
          ],
          "name": "stdout"
        },
        {
          "output_type": "execute_result",
          "data": {
            "text/html": [
              "<div>\n",
              "<style scoped>\n",
              "    .dataframe tbody tr th:only-of-type {\n",
              "        vertical-align: middle;\n",
              "    }\n",
              "\n",
              "    .dataframe tbody tr th {\n",
              "        vertical-align: top;\n",
              "    }\n",
              "\n",
              "    .dataframe thead th {\n",
              "        text-align: right;\n",
              "    }\n",
              "</style>\n",
              "<table border=\"1\" class=\"dataframe\">\n",
              "  <thead>\n",
              "    <tr style=\"text-align: right;\">\n",
              "      <th></th>\n",
              "      <th>comment</th>\n",
              "      <th>label</th>\n",
              "    </tr>\n",
              "  </thead>\n",
              "  <tbody>\n",
              "    <tr>\n",
              "      <th>0</th>\n",
              "      <td>chosen one</td>\n",
              "      <td>0</td>\n",
              "    </tr>\n",
              "    <tr>\n",
              "      <th>1</th>\n",
              "      <td>wrong time need agree</td>\n",
              "      <td>1</td>\n",
              "    </tr>\n",
              "    <tr>\n",
              "      <th>2</th>\n",
              "      <td>long uses right bathroom problem</td>\n",
              "      <td>1</td>\n",
              "    </tr>\n",
              "    <tr>\n",
              "      <th>3</th>\n",
              "      <td>h footprints sand clannad angel beats psycho p...</td>\n",
              "      <td>0</td>\n",
              "    </tr>\n",
              "    <tr>\n",
              "      <th>4</th>\n",
              "      <td>killed meruem</td>\n",
              "      <td>1</td>\n",
              "    </tr>\n",
              "  </tbody>\n",
              "</table>\n",
              "</div>"
            ],
            "text/plain": [
              "                                             comment  label\n",
              "0                                         chosen one      0\n",
              "1                              wrong time need agree      1\n",
              "2                   long uses right bathroom problem      1\n",
              "3  h footprints sand clannad angel beats psycho p...      0\n",
              "4                                      killed meruem      1"
            ]
          },
          "metadata": {
            "tags": []
          },
          "execution_count": 45
        }
      ]
    },
    {
      "cell_type": "markdown",
      "metadata": {
        "id": "zyl-Bwj6_MhQ"
      },
      "source": [
        "Performin TF-IDF text transformation:"
      ]
    },
    {
      "cell_type": "code",
      "metadata": {
        "colab": {
          "base_uri": "https://localhost:8080/"
        },
        "id": "9EMqVgBu_R-D",
        "outputId": "a9d87579-2000-4ca2-b311-86895ea15595"
      },
      "source": [
        "from sklearn.feature_extraction.text import TfidfVectorizer\n",
        "vectorizer = TfidfVectorizer()\n",
        "text_features_train = vectorizer.fit_transform(df_train['comment'])\n",
        "text_features_train.shape\n",
        "\n",
        "#print(text_features_train)"
      ],
      "execution_count": 43,
      "outputs": [
        {
          "output_type": "execute_result",
          "data": {
            "text/plain": [
              "(10123, 13465)"
            ]
          },
          "metadata": {
            "tags": []
          },
          "execution_count": 43
        }
      ]
    },
    {
      "cell_type": "markdown",
      "metadata": {
        "id": "HrrR3OIdAhDI"
      },
      "source": [
        "Using PCA to reduce dimenstions:"
      ]
    },
    {
      "cell_type": "code",
      "metadata": {
        "colab": {
          "base_uri": "https://localhost:8080/"
        },
        "id": "esX3Np8DAdAP",
        "outputId": "f65ad902-439e-4f6f-8e9e-728ea1483058"
      },
      "source": [
        "text_features_train=text_features_train.toarray()\n",
        "\n",
        "pca=PCA(n_components=2)\n",
        "features_train = pca.fit_transform(text_features_train)\n",
        "features_train.shape\n"
      ],
      "execution_count": 46,
      "outputs": [
        {
          "output_type": "execute_result",
          "data": {
            "text/plain": [
              "(10123, 2)"
            ]
          },
          "metadata": {
            "tags": []
          },
          "execution_count": 46
        }
      ]
    }
  ]
}
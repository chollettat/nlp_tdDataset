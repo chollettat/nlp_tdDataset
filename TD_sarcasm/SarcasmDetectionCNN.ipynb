{
  "nbformat": 4,
  "nbformat_minor": 0,
  "metadata": {
    "colab": {
      "name": "SarcasmDetectionCNN",
      "provenance": [],
      "collapsed_sections": []
    },
    "kernelspec": {
      "name": "python3",
      "display_name": "Python 3"
    }
  },
  "cells": [
    {
      "cell_type": "code",
      "metadata": {
        "id": "QLvLUmeX4Hcb"
      },
      "source": [
        "###########################\n",
        "# Configs\n",
        "# #########################\n",
        "\n",
        "vocab_size= _        # Vocabulary size. Will be determined by the lenght of preprocessed training set after the initial treatement\n",
        "embedding_dim = 32         # Lenght of vectors representing words\n",
        "max_length = 18         # Maximal phrase length before processing\n",
        "trunc_type='post'        # Trunking method for exceeding length>max_lengh\n",
        "padding_type='post'      # Padding parameters\n",
        "oov_tok='<OOV>'          # Missing word token\n",
        "#training_size=22000\n",
        "num_epochs = 10     \n",
        "PATIENCE_STOPPING = 5\n",
        "OPTIMIZER = 'adam'  #Gradient descent optimisation"
      ],
      "execution_count": 3,
      "outputs": []
    },
    {
      "cell_type": "code",
      "metadata": {
        "colab": {
          "base_uri": "https://localhost:8080/"
        },
        "id": "4SsWWGDN4dT8",
        "outputId": "789f5376-d6ba-440f-d9ad-91d0c69a43db"
      },
      "source": [
        "#Imports###########################################\n",
        "import os\n",
        "import io\n",
        "#Data import\n",
        "print(\"Imported data: \")\n",
        "for dirname, _, filenames in os.walk('/content/drive/MyDrive/NLPW'): #Set your path here\n",
        "    for filename in filenames:\n",
        "        print(os.path.join(dirname, filename))\n",
        "\n",
        "import numpy as np \n",
        "import pandas as pd       \n",
        "import random\n",
        "import nltk\n",
        "import tensorflow as tf\n",
        "\n",
        "print(\"\\n\"+\"TF version: {}\".format(tf.__version__))\n",
        "vers_tf = int((tf.__version__).split(sep='.')[0])\n",
        "\n",
        "if vers_tf < 2:\n",
        "    print('Version < 2 : eager execution enabled')\n",
        "    tf.enable_eager_execution()\n",
        "\n",
        "from tensorflow.keras.preprocessing.text import Tokenizer\n",
        "from tensorflow.keras.preprocessing.text import text_to_word_sequence\n",
        "from tensorflow.keras.preprocessing.sequence import pad_sequences\n",
        "from tensorflow.keras.callbacks import EarlyStopping, ModelCheckpoint\n",
        "from nltk.stem import WordNetLemmatizer\n",
        "from nltk import word_tokenize"
      ],
      "execution_count": 4,
      "outputs": [
        {
          "output_type": "stream",
          "text": [
            "Imported data: \n",
            "/content/drive/MyDrive/NLPW/Train.csv\n",
            "/content/drive/MyDrive/NLPW/Test.csv\n",
            "/content/drive/MyDrive/NLPW/Train.gsheet\n",
            "\n",
            "TF version: 2.3.0\n"
          ],
          "name": "stdout"
        }
      ]
    },
    {
      "cell_type": "markdown",
      "metadata": {
        "id": "zJ2tYmIstw7d"
      },
      "source": [
        "In that scenario we will be using .csv training set. We'll import it as pandas dataframe."
      ]
    },
    {
      "cell_type": "code",
      "metadata": {
        "colab": {
          "base_uri": "https://localhost:8080/"
        },
        "id": "fI_Cz746_QMR",
        "outputId": "5a339047-9a29-45c2-911c-997ae0950155"
      },
      "source": [
        "df = pd.read_csv(\"/content/drive/MyDrive/NLPW/Train.csv\")\n",
        "#Showing dataframe information\n",
        "df.info()"
      ],
      "execution_count": 5,
      "outputs": [
        {
          "output_type": "stream",
          "text": [
            "<class 'pandas.core.frame.DataFrame'>\n",
            "RangeIndex: 15000 entries, 0 to 14999\n",
            "Data columns (total 10 columns):\n",
            " #   Column          Non-Null Count  Dtype \n",
            "---  ------          --------------  ----- \n",
            " 0   ID              15000 non-null  object\n",
            " 1   comment         15000 non-null  object\n",
            " 2   date            15000 non-null  object\n",
            " 3   down            15000 non-null  int64 \n",
            " 4   parent_comment  15000 non-null  object\n",
            " 5   score           15000 non-null  int64 \n",
            " 6   top             15000 non-null  int64 \n",
            " 7   topic           15000 non-null  object\n",
            " 8   user            15000 non-null  object\n",
            " 9   label           15000 non-null  int64 \n",
            "dtypes: int64(4), object(6)\n",
            "memory usage: 1.1+ MB\n"
          ],
          "name": "stdout"
        }
      ]
    },
    {
      "cell_type": "code",
      "metadata": {
        "colab": {
          "base_uri": "https://localhost:8080/",
          "height": 206
        },
        "id": "G_LImfmE_oXH",
        "outputId": "356b7e73-971d-4360-9dbb-b1dacccbd8c7"
      },
      "source": [
        "df.head()"
      ],
      "execution_count": 6,
      "outputs": [
        {
          "output_type": "execute_result",
          "data": {
            "text/html": [
              "<div>\n",
              "<style scoped>\n",
              "    .dataframe tbody tr th:only-of-type {\n",
              "        vertical-align: middle;\n",
              "    }\n",
              "\n",
              "    .dataframe tbody tr th {\n",
              "        vertical-align: top;\n",
              "    }\n",
              "\n",
              "    .dataframe thead th {\n",
              "        text-align: right;\n",
              "    }\n",
              "</style>\n",
              "<table border=\"1\" class=\"dataframe\">\n",
              "  <thead>\n",
              "    <tr style=\"text-align: right;\">\n",
              "      <th></th>\n",
              "      <th>ID</th>\n",
              "      <th>comment</th>\n",
              "      <th>date</th>\n",
              "      <th>down</th>\n",
              "      <th>parent_comment</th>\n",
              "      <th>score</th>\n",
              "      <th>top</th>\n",
              "      <th>topic</th>\n",
              "      <th>user</th>\n",
              "      <th>label</th>\n",
              "    </tr>\n",
              "  </thead>\n",
              "  <tbody>\n",
              "    <tr>\n",
              "      <th>0</th>\n",
              "      <td>uid_590555</td>\n",
              "      <td>Well, let's be honest here, they don't actuall...</td>\n",
              "      <td>2015-04</td>\n",
              "      <td>0</td>\n",
              "      <td>They should shut the fuck up and let the commu...</td>\n",
              "      <td>2</td>\n",
              "      <td>2</td>\n",
              "      <td>starcitizen</td>\n",
              "      <td>Combat_Wombatz</td>\n",
              "      <td>0</td>\n",
              "    </tr>\n",
              "    <tr>\n",
              "      <th>1</th>\n",
              "      <td>uid_671762</td>\n",
              "      <td>Well, I didn't need evidence to believe in com...</td>\n",
              "      <td>2016-12</td>\n",
              "      <td>-1</td>\n",
              "      <td>You need evidence to kill people? I thought we...</td>\n",
              "      <td>6</td>\n",
              "      <td>-1</td>\n",
              "      <td>EnoughCommieSpam</td>\n",
              "      <td>starkadd</td>\n",
              "      <td>1</td>\n",
              "    </tr>\n",
              "    <tr>\n",
              "      <th>2</th>\n",
              "      <td>uid_519689</td>\n",
              "      <td>Who does an \"official promo\" in 360p?</td>\n",
              "      <td>2013-11</td>\n",
              "      <td>0</td>\n",
              "      <td>2014 BMW S1000R: Official Promo</td>\n",
              "      <td>3</td>\n",
              "      <td>3</td>\n",
              "      <td>motorcycles</td>\n",
              "      <td>phybere</td>\n",
              "      <td>0</td>\n",
              "    </tr>\n",
              "    <tr>\n",
              "      <th>3</th>\n",
              "      <td>uid_788362</td>\n",
              "      <td>Grotto koth was the best</td>\n",
              "      <td>2015-09</td>\n",
              "      <td>0</td>\n",
              "      <td>Not really that memorable lol if you want memo...</td>\n",
              "      <td>2</td>\n",
              "      <td>2</td>\n",
              "      <td>hcfactions</td>\n",
              "      <td>m0xyMC</td>\n",
              "      <td>1</td>\n",
              "    </tr>\n",
              "    <tr>\n",
              "      <th>4</th>\n",
              "      <td>uid_299252</td>\n",
              "      <td>Neal's back baby</td>\n",
              "      <td>2015-11</td>\n",
              "      <td>0</td>\n",
              "      <td>James Neal hit on Zach Parise</td>\n",
              "      <td>-5</td>\n",
              "      <td>-5</td>\n",
              "      <td>hockey</td>\n",
              "      <td>Somuch101</td>\n",
              "      <td>1</td>\n",
              "    </tr>\n",
              "  </tbody>\n",
              "</table>\n",
              "</div>"
            ],
            "text/plain": [
              "           ID  ... label\n",
              "0  uid_590555  ...     0\n",
              "1  uid_671762  ...     1\n",
              "2  uid_519689  ...     0\n",
              "3  uid_788362  ...     1\n",
              "4  uid_299252  ...     1\n",
              "\n",
              "[5 rows x 10 columns]"
            ]
          },
          "metadata": {
            "tags": []
          },
          "execution_count": 6
        }
      ]
    },
    {
      "cell_type": "code",
      "metadata": {
        "colab": {
          "base_uri": "https://localhost:8080/"
        },
        "id": "upbqNBxx_44j",
        "outputId": "44ccabca-d38b-4a31-c09d-61cbb8e9ca8d"
      },
      "source": [
        "n_sarcastic = (df['label'] == 1).sum()\n",
        "n_not_sarcastic = (df['label'] == 0).sum()\n",
        "print(\"Where is {} sarcastic comments and {} not sarcastic comments inthis dataset\".format(n_sarcastic, n_not_sarcastic))"
      ],
      "execution_count": 8,
      "outputs": [
        {
          "output_type": "stream",
          "text": [
            "Where is 7527 sarcastic comments and 7473 not sarcastic comments inthis dataset\n"
          ],
          "name": "stdout"
        }
      ]
    },
    {
      "cell_type": "code",
      "metadata": {
        "colab": {
          "base_uri": "https://localhost:8080/"
        },
        "id": "2hQA2s0BATLU",
        "outputId": "44317d00-0831-4aa7-eb62-cd23e5e0fe3c"
      },
      "source": [
        "#We can see the exemple of some of them:\n",
        "for i in range(3):\n",
        "    n = random.randrange(len(df['comment']))\n",
        "    print('Parent comment: '+df['parent_comment'][n])\n",
        "    print('Comment: '+df['comment'][n])\n",
        "    print('Score: '+str(df['score'][n]))\n",
        "    print(\"Is sarcasm: {}\".format(df['label'][n]))\n",
        "    print(\"||||||||||||||||||||||||||||||||||||||||||||||||||||||||||||||||||||||\")"
      ],
      "execution_count": 9,
      "outputs": [
        {
          "output_type": "stream",
          "text": [
            "Parent comment: Speculation on Steven's Stagnation So, other than the fact that Steven wants to retain the carefreeness of being a child, I think he wants to be perceived as such as well. Children can convey innocence, preciousness, a non threatening aura (okay it depends on who you are and whether or not the child is a hell spawn but regardless). If people perceive Steven as non threatening then they're more likely to trust him, to care for him, to believe him. There is so much stigma behind being a teenager. Lars is a perfect example of hormones hijacking your brain and sense of morality. Perhaps Steven noticed how people treated Lars and subconsciously sought to avoid that. Or maybe I'm reading too much into it. *Shrugs.** It could also be that he is just not ready to grow to that phase yet. Or some sort of gem related maturation thingy.\n",
            "Comment: It's a shout out to twilight, since it's such a great piece of art\n",
            "Score: 1\n",
            "Is sarcasm: 1\n",
            "||||||||||||||||||||||||||||||||||||||||||||||||||||||||||||||||||||||\n",
            "Parent comment: 1) learn to dance on YouTube 2) go to Africa 3) film learned dances with locals 4) karma!\n",
            "Comment: Worth\n",
            "Score: 1\n",
            "Is sarcasm: 0\n",
            "||||||||||||||||||||||||||||||||||||||||||||||||||||||||||||||||||||||\n",
            "Parent comment: do you go to poly?\n",
            "Comment: Represent!\n",
            "Score: 1\n",
            "Is sarcasm: 1\n",
            "||||||||||||||||||||||||||||||||||||||||||||||||||||||||||||||||||||||\n"
          ],
          "name": "stdout"
        }
      ]
    },
    {
      "cell_type": "code",
      "metadata": {
        "colab": {
          "base_uri": "https://localhost:8080/"
        },
        "id": "vnntdPJ1A2Al",
        "outputId": "38958ad4-f791-4926-9473-1ea2edc3712f"
      },
      "source": [
        "# Contruction des listes de phrases(X) et de labels(y)\n",
        "X=list(df['comment'])\n",
        "#Xp=list(df['parent_comment'])\n",
        "#Xt=list(test_df['comment'])\n",
        "y=list(df['label'])\n",
        "#s=list(df['score'])\n",
        "\n",
        "print(len(set(X))) #Vocab size before preprocessing"
      ],
      "execution_count": 10,
      "outputs": [
        {
          "output_type": "stream",
          "text": [
            "14871\n"
          ],
          "name": "stdout"
        }
      ]
    },
    {
      "cell_type": "markdown",
      "metadata": {
        "id": "FaTVE9LxBOC7"
      },
      "source": [
        "Preprocessing: stopwords+lemmatization."
      ]
    },
    {
      "cell_type": "code",
      "metadata": {
        "colab": {
          "base_uri": "https://localhost:8080/"
        },
        "id": "rSCc1wGQBEz4",
        "outputId": "36ea7b84-0046-46f5-dbe8-269d98f3897b"
      },
      "source": [
        "# Importing NLTK stopwords\n",
        "nltk.download('wordnet')\n",
        "nltk.download('stopwords')\n",
        "nltk.download('punkt')\n",
        "stopwords = nltk.corpus.stopwords.words('english')"
      ],
      "execution_count": 11,
      "outputs": [
        {
          "output_type": "stream",
          "text": [
            "[nltk_data] Downloading package wordnet to /root/nltk_data...\n",
            "[nltk_data]   Package wordnet is already up-to-date!\n",
            "[nltk_data] Downloading package stopwords to /root/nltk_data...\n",
            "[nltk_data]   Package stopwords is already up-to-date!\n",
            "[nltk_data] Downloading package punkt to /root/nltk_data...\n",
            "[nltk_data]   Package punkt is already up-to-date!\n"
          ],
          "name": "stdout"
        }
      ]
    },
    {
      "cell_type": "code",
      "metadata": {
        "id": "EqfAbV4uBgJ6"
      },
      "source": [
        "#Stop-words removing function\n",
        "def process_stop_words(X,DEL_STOPWORDS, display_res=True):\n",
        "    \n",
        "    if DEL_STOPWORDS: #Used for different treatements\n",
        "        X_seq = [[word for word in word_tokenize(st)] for st in X]\n",
        "        \n",
        "        X_seq_no_stops = [[word for word in st if word not in stopwords] for st in X_seq]\n",
        "        \n",
        "        if display_res:\n",
        "            print(\"Before tokenization:     {}\".format(X[10]))\n",
        "            print(\"After tokenization:     {}\".format(X_seq[10]))\n",
        "            print(\"Whithout stopwords:         {}\".format(X_seq_no_stops[10]))\n",
        "        return X_seq_no_stops\n",
        "    else:\n",
        "        print(\"No stopwords treatement\")\n",
        "        return X"
      ],
      "execution_count": 12,
      "outputs": []
    },
    {
      "cell_type": "markdown",
      "metadata": {
        "id": "TuUyC5IYxC2E"
      },
      "source": [
        "We will use different preprocessings on our dataset:"
      ]
    },
    {
      "cell_type": "code",
      "metadata": {
        "colab": {
          "base_uri": "https://localhost:8080/"
        },
        "id": "nzupyaYACNU3",
        "outputId": "ba841d30-c139-4219-c7f3-e3dc59321df3"
      },
      "source": [
        "X_processed=process_stop_words(X,True)\n",
        "print('||||||||||||||||||||||||||||||||||||||||||')\n",
        "X_baren=process_stop_words(X,False)"
      ],
      "execution_count": 13,
      "outputs": [
        {
          "output_type": "stream",
          "text": [
            "Before tokenization:     That's gonna look great later in life\n",
            "After tokenization:     ['That', \"'s\", 'gon', 'na', 'look', 'great', 'later', 'in', 'life']\n",
            "Whithout stopwords:         ['That', \"'s\", 'gon', 'na', 'look', 'great', 'later', 'life']\n",
            "||||||||||||||||||||||||||||||||||||||||||\n",
            "No stopwords treatement\n"
          ],
          "name": "stdout"
        }
      ]
    },
    {
      "cell_type": "code",
      "metadata": {
        "id": "jYHtaAX7C3gg"
      },
      "source": [
        "def process_lemmatization(X, DO_LEMMATIZE,DEL_STOPWORDS, display_res=True):\n",
        "    if DO_LEMMATIZE:##Used in different preprocessing\n",
        "        lemm = WordNetLemmatizer()\n",
        "        if display_res:\n",
        "            print(\"Before lemmatization :    {}\".format(X[10]))\n",
        "        Xlem = X.copy()\n",
        "        if DEL_STOPWORDS:\n",
        "            Xlem = [[lemm.lemmatize(word) for word in s] for s in X]\n",
        "        else:\n",
        "            Xlem = [[lemm.lemmatize(word) for word in word_tokenize(s)] for s in X]\n",
        "\n",
        "        if display_res:\n",
        "            print(\"After Lemmatization :    {}\".format(Xlem[10]))\n",
        "        return Xlem\n",
        "    else:\n",
        "        if DEL_STOPWORDS:\n",
        "          print(\"No treatement\")\n",
        "          return X\n",
        "        else:\n",
        "          X_seqq = [[word for word in word_tokenize(st)] for st in X]\n",
        "          return(X_seqq)"
      ],
      "execution_count": 14,
      "outputs": []
    },
    {
      "cell_type": "code",
      "metadata": {
        "colab": {
          "base_uri": "https://localhost:8080/"
        },
        "id": "PW-2DyhKHcse",
        "outputId": "839c442d-4169-4831-a01c-4dae9462be98"
      },
      "source": [
        "X_processed_nolem = process_lemmatization(X_processed,False,True)\n",
        "X_processed_lem = process_lemmatization(X_processed,True,True)\n",
        "X_baren_nolem = process_lemmatization(X_baren,False,False)\n",
        "X_baren_lem = process_lemmatization(X_baren,True,False)\n",
        "\n",
        "\n",
        "X_processed_nolem_flat = set([w for sublist in X_processed_nolem for w in sublist])\n",
        "X_processed_lem_flat = set([w for sublist in X_processed_lem for w in sublist])\n",
        "X_baren_nolem_flat = set([w for sublist in X_baren_nolem for w in sublist])\n",
        "X_baren_lem_flat = set([w for sublist in X_baren_lem for w in sublist])\n",
        "print('/././././././././././././././.././././//./././././././')\n",
        "print('With stopwords no lemmatization vocabulary size : '+str(len(X_baren_nolem_flat)))##Vocab size after preprocessing\n",
        "print('Removed stopwords, no lemmatization vocabulary size: '+str(len(X_processed_nolem_flat)))##Vocab size after preprocessing\n",
        "print('With stopwords lemmatization vocabulary size: '+str(len(X_baren_lem_flat)))##Vocab size after preprocessing\n",
        "print('Removed stopwords lemmatization vocabulary size: '+str(len(X_processed_lem_flat)))##Vocab size after preprocessing\n",
        "#################USED IN FURTHER TREATEMENT\n",
        "pnl_vocab_size = len(X_processed_nolem_flat) ##NOSTOPS|NOLEM##\n",
        "pl_vocab_size = len(X_processed_lem_flat) ##NOSTOPS|LEM##\n",
        "bnl_vocab_size = len(X_baren_nolem_flat)  ##WITHSTOPS|NOLEM##\n",
        "bl_vocab_size = len(X_baren_lem_flat)     ##WITHSTOPS|LEM##"
      ],
      "execution_count": 15,
      "outputs": [
        {
          "output_type": "stream",
          "text": [
            "No treatement\n",
            "Before lemmatization :    ['That', \"'s\", 'gon', 'na', 'look', 'great', 'later', 'life']\n",
            "After Lemmatization :    ['That', \"'s\", 'gon', 'na', 'look', 'great', 'later', 'life']\n",
            "Before lemmatization :    That's gonna look great later in life\n",
            "After Lemmatization :    ['That', \"'s\", 'gon', 'na', 'look', 'great', 'later', 'in', 'life']\n",
            "/././././././././././././././.././././//./././././././\n",
            "With stopwords no lemmatization vocabulary size : 21896\n",
            "Removed stopwords, no lemmatization vocabulary size: 21764\n",
            "With stopwords lemmatization vocabulary size: 20443\n",
            "Removed stopwords lemmatization vocabulary size: 20325\n"
          ],
          "name": "stdout"
        }
      ]
    },
    {
      "cell_type": "markdown",
      "metadata": {
        "id": "TFwAU9KJ2cNX"
      },
      "source": [
        "We can observe that no-stopwords, lemmatization vocabulary size is the smallest, which is quite logical."
      ]
    },
    {
      "cell_type": "markdown",
      "metadata": {
        "id": "IeAafHDyJ_1_"
      },
      "source": [
        "Splitting training set on training and test:"
      ]
    },
    {
      "cell_type": "code",
      "metadata": {
        "id": "C7g8k7OIIDwt"
      },
      "source": [
        "def splitting(X):\n",
        "  training_size=int(len(X)//1.5)\n",
        "  X_train = X[:training_size]\n",
        "  y_train = np.array(y[:training_size])\n",
        "  X_test  = X[training_size:len(X)-100]\n",
        "  y_test  = np.array(y[training_size:len(X)-100])\n",
        "  X_valid = X[len(X)-100:]\n",
        "  y_valid = np.array(y[len(X)-100:])\n",
        "  print(len(X))\n",
        "\n",
        "  print(\"Training set size : {}\".format(len(X_train)))\n",
        "  print(\"Test set size : {}\".format(len(X_test)))\n",
        "  RES=[[X_train,y_train],[X_test,y_test],[X_valid,y_valid]]\n",
        "  return(RES)"
      ],
      "execution_count": 16,
      "outputs": []
    },
    {
      "cell_type": "code",
      "metadata": {
        "colab": {
          "base_uri": "https://localhost:8080/"
        },
        "id": "AX1HOgt3_zip",
        "outputId": "13dc3461-8368-48ea-a552-62fa9283e3d7"
      },
      "source": [
        "pnl = splitting(X_processed_nolem) \n",
        "pl = splitting(X_processed_lem) \n",
        "bnl = splitting(X_baren_nolem)  \n",
        "bl = splitting(X_baren_lem)"
      ],
      "execution_count": 17,
      "outputs": [
        {
          "output_type": "stream",
          "text": [
            "15000\n",
            "Training set size : 10000\n",
            "Test set size : 4900\n",
            "15000\n",
            "Training set size : 10000\n",
            "Test set size : 4900\n",
            "15000\n",
            "Training set size : 10000\n",
            "Test set size : 4900\n",
            "15000\n",
            "Training set size : 10000\n",
            "Test set size : 4900\n"
          ],
          "name": "stdout"
        }
      ]
    },
    {
      "cell_type": "markdown",
      "metadata": {
        "id": "JIn0CqSHMqGC"
      },
      "source": [
        "Sentence tokenisation:"
      ]
    },
    {
      "cell_type": "code",
      "metadata": {
        "id": "6HdvMmeAKyiB"
      },
      "source": [
        "#Tokenizer creaion function\n",
        "def create_tokenizer(vocab_size,X_train):\n",
        "  tokenizer = Tokenizer(num_words=vocab_size,oov_token=oov_tok)\n",
        "  tokenizer.fit_on_texts(X_train)\n",
        "  word_index = tokenizer.word_index                             \n",
        "  X_train_sequences = tokenizer.texts_to_sequences(X_train)\n",
        "  X_train_padded = pad_sequences(X_train_sequences, maxlen = max_length, truncating = trunc_type)\n",
        "  RES=[tokenizer,X_train_sequences,X_train_padded]\n",
        "  return RES"
      ],
      "execution_count": 18,
      "outputs": []
    },
    {
      "cell_type": "code",
      "metadata": {
        "id": "x_WMxfFj8Y7j"
      },
      "source": [
        "tokenizer_bnl=create_tokenizer(bnl_vocab_size,bnl[0][0])[0]\n",
        "tokenizer_bl=create_tokenizer(bl_vocab_size,bl[0][0])[0]\n",
        "tokenizer_pnl=create_tokenizer(pnl_vocab_size,pnl[0][0])[0]\n",
        "tokenizer_pl=create_tokenizer(pl_vocab_size,pl[0][0])[0]\n",
        "\n",
        "X_train_sequences_bnl=create_tokenizer(bnl_vocab_size,bnl[0][0])[1]\n",
        "X_train_sequences_bl=create_tokenizer(bl_vocab_size,bl[0][0])[1]\n",
        "X_train_sequences_pnl=create_tokenizer(pnl_vocab_size,pnl[0][0])[1]\n",
        "X_train_sequences_pl=create_tokenizer(pl_vocab_size,pl[0][0])[1]\n",
        "\n",
        "X_train_padded_bnl=create_tokenizer(bnl_vocab_size,bnl[0][0])[2]\n",
        "X_train_padded_bl=create_tokenizer(bl_vocab_size,bl[0][0])[2]\n",
        "X_train_padded_pnl=create_tokenizer(pnl_vocab_size,pnl[0][0])[2]\n",
        "X_train_padded_pl=create_tokenizer(pl_vocab_size,pl[0][0])[2]"
      ],
      "execution_count": 19,
      "outputs": []
    },
    {
      "cell_type": "code",
      "metadata": {
        "id": "WLe-xD5xLOe5"
      },
      "source": [
        "bnl_X_test_sequences = tokenizer_bnl.texts_to_sequences(bnl[1][0])\n",
        "bnl_X_test_padded = pad_sequences(bnl_X_test_sequences, maxlen = max_length, truncating = trunc_type)\n",
        "\n",
        "bl_X_test_sequences = tokenizer_bl.texts_to_sequences(bl[1][0])\n",
        "bl_X_test_padded = pad_sequences(bl_X_test_sequences, maxlen = max_length, truncating = trunc_type)\n",
        "\n",
        "pnl_X_test_sequences = tokenizer_pnl.texts_to_sequences(pnl[1][0])\n",
        "pnl_X_test_padded = pad_sequences(pnl_X_test_sequences, maxlen = max_length, truncating = trunc_type)\n",
        "\n",
        "pl_X_test_sequences = tokenizer_pl.texts_to_sequences(pl[1][0])\n",
        "pl_X_test_padded = pad_sequences(pl_X_test_sequences, maxlen = max_length, truncating = trunc_type)"
      ],
      "execution_count": 21,
      "outputs": []
    },
    {
      "cell_type": "code",
      "metadata": {
        "id": "NctzgcDRLS5j"
      },
      "source": [
        "#Might be useful. Needs to be implemented for each type of preprocessing (word_index taken from function create_tokenizer)\n",
        "# Inversed index creation\n",
        "#reverse_word_index = dict([(value, key) for (key, value) in word_index.items()])\n",
        "#def decode_review(text):\n",
        "#    return ' '.join([reverse_word_index.get(i, '?') for i in text])\n",
        "\n",
        "# Showing some random comments:\n",
        "#for i in range(3):\n",
        "#    alea = random.randrange(len(pnl[0][0]))\n",
        "#    print(\"Original comment: {}\".format(pnl[0][0][alea]))\n",
        "#    print(\"Sequence : {}\".format(X_train_sequences_pnl[alea]))\n",
        "#    print(\"Sequenc + padding: {}\".format(X_train_padded_pnl[alea]))\n",
        "#    print(\"Rbuild: {}\".format(decode_review(X_train_padded_pnl[alea])))\n",
        "#    print(\"----------------------------------------------------------------------\")"
      ],
      "execution_count": 36,
      "outputs": []
    },
    {
      "cell_type": "code",
      "metadata": {
        "id": "mQFepCs4LZwJ"
      },
      "source": [
        "def build_model(vocab_size):\n",
        "  model = tf.keras.Sequential([\n",
        "    \n",
        "      #Input layer\n",
        "      tf.keras.layers.Embedding(vocab_size, embedding_dim, input_length=max_length),\n",
        "    \n",
        "      #LSTM layer\n",
        "      tf.keras.layers.Bidirectional(tf.keras.layers.LSTM(32,return_sequences=True)),\n",
        "      tf.keras.layers.Bidirectional(tf.keras.layers.LSTM(16)),\n",
        "    \n",
        "      #CN layer\n",
        "      tf.keras.layers.Dense(32, activation='relu'),\n",
        "      tf.keras.layers.Dropout(0.5),\n",
        "      tf.keras.layers.Dense(16, activation='relu'),\n",
        "      tf.keras.layers.Dropout(0.5),\n",
        "    \n",
        "      #Output layer\n",
        "      tf.keras.layers.Dense(1, activation='sigmoid')\n",
        "      ])\n",
        "\n",
        "  model.compile(optimizer=OPTIMIZER, loss='binary_crossentropy', metrics=['acc'])\n",
        "  model.summary()\n",
        "  return(model)"
      ],
      "execution_count": 23,
      "outputs": []
    },
    {
      "cell_type": "code",
      "metadata": {
        "colab": {
          "base_uri": "https://localhost:8080/"
        },
        "id": "t6Ipik3p5Mq7",
        "outputId": "28c37f28-0fba-4630-a531-836ff5c6e1f8"
      },
      "source": [
        "Model_bnl=build_model(bnl_vocab_size)\n",
        "print('|||||||||||||||||||||||||||||||||||||||||||||||||||||||||||||||||||||||||||||||||||||||||||||||||||||||||||||||')\n",
        "Model_bl=build_model(bl_vocab_size)\n",
        "print('|||||||||||||||||||||||||||||||||||||||||||||||||||||||||||||||||||||||||||||||||||||||||||||||||||||||||||||||')\n",
        "Model_pnl=build_model(pnl_vocab_size)\n",
        "print('|||||||||||||||||||||||||||||||||||||||||||||||||||||||||||||||||||||||||||||||||||||||||||||||||||||||||||||||')\n",
        "Model_pl=build_model(pl_vocab_size)"
      ],
      "execution_count": 24,
      "outputs": [
        {
          "output_type": "stream",
          "text": [
            "Model: \"sequential\"\n",
            "_________________________________________________________________\n",
            "Layer (type)                 Output Shape              Param #   \n",
            "=================================================================\n",
            "embedding (Embedding)        (None, 18, 32)            700672    \n",
            "_________________________________________________________________\n",
            "bidirectional (Bidirectional (None, 18, 64)            16640     \n",
            "_________________________________________________________________\n",
            "bidirectional_1 (Bidirection (None, 32)                10368     \n",
            "_________________________________________________________________\n",
            "dense (Dense)                (None, 32)                1056      \n",
            "_________________________________________________________________\n",
            "dropout (Dropout)            (None, 32)                0         \n",
            "_________________________________________________________________\n",
            "dense_1 (Dense)              (None, 16)                528       \n",
            "_________________________________________________________________\n",
            "dropout_1 (Dropout)          (None, 16)                0         \n",
            "_________________________________________________________________\n",
            "dense_2 (Dense)              (None, 1)                 17        \n",
            "=================================================================\n",
            "Total params: 729,281\n",
            "Trainable params: 729,281\n",
            "Non-trainable params: 0\n",
            "_________________________________________________________________\n",
            "|||||||||||||||||||||||||||||||||||||||||||||||||||||||||||||||||||||||||||||||||||||||||||||||||||||||||||||||\n",
            "Model: \"sequential_1\"\n",
            "_________________________________________________________________\n",
            "Layer (type)                 Output Shape              Param #   \n",
            "=================================================================\n",
            "embedding_1 (Embedding)      (None, 18, 32)            654176    \n",
            "_________________________________________________________________\n",
            "bidirectional_2 (Bidirection (None, 18, 64)            16640     \n",
            "_________________________________________________________________\n",
            "bidirectional_3 (Bidirection (None, 32)                10368     \n",
            "_________________________________________________________________\n",
            "dense_3 (Dense)              (None, 32)                1056      \n",
            "_________________________________________________________________\n",
            "dropout_2 (Dropout)          (None, 32)                0         \n",
            "_________________________________________________________________\n",
            "dense_4 (Dense)              (None, 16)                528       \n",
            "_________________________________________________________________\n",
            "dropout_3 (Dropout)          (None, 16)                0         \n",
            "_________________________________________________________________\n",
            "dense_5 (Dense)              (None, 1)                 17        \n",
            "=================================================================\n",
            "Total params: 682,785\n",
            "Trainable params: 682,785\n",
            "Non-trainable params: 0\n",
            "_________________________________________________________________\n",
            "|||||||||||||||||||||||||||||||||||||||||||||||||||||||||||||||||||||||||||||||||||||||||||||||||||||||||||||||\n",
            "Model: \"sequential_2\"\n",
            "_________________________________________________________________\n",
            "Layer (type)                 Output Shape              Param #   \n",
            "=================================================================\n",
            "embedding_2 (Embedding)      (None, 18, 32)            696448    \n",
            "_________________________________________________________________\n",
            "bidirectional_4 (Bidirection (None, 18, 64)            16640     \n",
            "_________________________________________________________________\n",
            "bidirectional_5 (Bidirection (None, 32)                10368     \n",
            "_________________________________________________________________\n",
            "dense_6 (Dense)              (None, 32)                1056      \n",
            "_________________________________________________________________\n",
            "dropout_4 (Dropout)          (None, 32)                0         \n",
            "_________________________________________________________________\n",
            "dense_7 (Dense)              (None, 16)                528       \n",
            "_________________________________________________________________\n",
            "dropout_5 (Dropout)          (None, 16)                0         \n",
            "_________________________________________________________________\n",
            "dense_8 (Dense)              (None, 1)                 17        \n",
            "=================================================================\n",
            "Total params: 725,057\n",
            "Trainable params: 725,057\n",
            "Non-trainable params: 0\n",
            "_________________________________________________________________\n",
            "|||||||||||||||||||||||||||||||||||||||||||||||||||||||||||||||||||||||||||||||||||||||||||||||||||||||||||||||\n",
            "Model: \"sequential_3\"\n",
            "_________________________________________________________________\n",
            "Layer (type)                 Output Shape              Param #   \n",
            "=================================================================\n",
            "embedding_3 (Embedding)      (None, 18, 32)            650400    \n",
            "_________________________________________________________________\n",
            "bidirectional_6 (Bidirection (None, 18, 64)            16640     \n",
            "_________________________________________________________________\n",
            "bidirectional_7 (Bidirection (None, 32)                10368     \n",
            "_________________________________________________________________\n",
            "dense_9 (Dense)              (None, 32)                1056      \n",
            "_________________________________________________________________\n",
            "dropout_6 (Dropout)          (None, 32)                0         \n",
            "_________________________________________________________________\n",
            "dense_10 (Dense)             (None, 16)                528       \n",
            "_________________________________________________________________\n",
            "dropout_7 (Dropout)          (None, 16)                0         \n",
            "_________________________________________________________________\n",
            "dense_11 (Dense)             (None, 1)                 17        \n",
            "=================================================================\n",
            "Total params: 679,009\n",
            "Trainable params: 679,009\n",
            "Non-trainable params: 0\n",
            "_________________________________________________________________\n"
          ],
          "name": "stdout"
        }
      ]
    },
    {
      "cell_type": "code",
      "metadata": {
        "id": "a17CZLLWLgKY"
      },
      "source": [
        "# Callbacks\n",
        "checkpoint = ModelCheckpoint(\"/content/drive/MyDrive/NLPW/Callbacks/model_sarcasm.h5\", monitor='val_loss', verbose=1, save_best_only=True, save_weights_only=False, mode='auto', save_freq=1)\n",
        "early = EarlyStopping(monitor='val_loss', min_delta=0, patience=PATIENCE_STOPPING, verbose=1, mode='auto')##Stopping epochs if loss function starts to grow"
      ],
      "execution_count": 25,
      "outputs": []
    },
    {
      "cell_type": "code",
      "metadata": {
        "colab": {
          "base_uri": "https://localhost:8080/"
        },
        "id": "f26wftSZLjfO",
        "outputId": "faf1de31-72ca-4d76-d50c-bdb05e0e1e59"
      },
      "source": [
        "#Model training With stopwords and no lem training\n",
        "import logging, os\n",
        "\n",
        "logging.disable(logging.WARNING)\n",
        "os.environ[\"TF_CPP_MIN_LOG_LEVEL\"] = \"3\"###No warnings\n",
        "\n",
        "history=Model_bnl.fit(X_train_padded_bnl,\n",
        "                  bnl[0][1],\n",
        "                  epochs=num_epochs,\n",
        "                  validation_data=(bnl_X_test_padded, bnl[1][1]),\n",
        "                  callbacks = [checkpoint, early],\n",
        "                  verbose=1)"
      ],
      "execution_count": 26,
      "outputs": [
        {
          "output_type": "stream",
          "text": [
            "Epoch 1/10\n",
            "313/313 [==============================] - 12s 40ms/step - loss: 0.6924 - acc: 0.5124 - val_loss: 0.6852 - val_acc: 0.5596\n",
            "Epoch 2/10\n",
            "313/313 [==============================] - 11s 34ms/step - loss: 0.6413 - acc: 0.6533 - val_loss: 0.6343 - val_acc: 0.6398\n",
            "Epoch 3/10\n",
            "313/313 [==============================] - 10s 33ms/step - loss: 0.4963 - acc: 0.7918 - val_loss: 0.6744 - val_acc: 0.6284\n",
            "Epoch 4/10\n",
            "313/313 [==============================] - 10s 33ms/step - loss: 0.3320 - acc: 0.8812 - val_loss: 0.8249 - val_acc: 0.6182\n",
            "Epoch 5/10\n",
            "313/313 [==============================] - 10s 33ms/step - loss: 0.2169 - acc: 0.9305 - val_loss: 1.0784 - val_acc: 0.6086\n",
            "Epoch 6/10\n",
            "313/313 [==============================] - 10s 33ms/step - loss: 0.1640 - acc: 0.9505 - val_loss: 1.3555 - val_acc: 0.6020\n",
            "Epoch 7/10\n",
            "313/313 [==============================] - 10s 33ms/step - loss: 0.1289 - acc: 0.9598 - val_loss: 1.6295 - val_acc: 0.5965\n",
            "Epoch 00007: early stopping\n"
          ],
          "name": "stdout"
        }
      ]
    },
    {
      "cell_type": "code",
      "metadata": {
        "colab": {
          "base_uri": "https://localhost:8080/",
          "height": 356
        },
        "id": "Absr0QEP-Ll2",
        "outputId": "112f6640-ee66-4f99-c7e2-b52621d131d3"
      },
      "source": [
        "# Learning graph\n",
        "\n",
        "import matplotlib.pyplot as plt\n",
        "fig, (ax1, ax2) = plt.subplots(1,2,figsize=(15,5))\n",
        "fig.suptitle(\"Performance\")\n",
        "ax1.plot(history.history['acc'])\n",
        "ax1.plot(history.history['val_acc'])\n",
        "vline_cut = np.where(history.history['val_acc'] == np.max(history.history['val_acc']))[0][0]\n",
        "ax1.axvline(x=vline_cut, color='k', linestyle='--')\n",
        "ax1.set_title(\"Model Accuracy\")\n",
        "ax1.legend(['train', 'test'])\n",
        "\n",
        "ax2.plot(history.history['loss'])\n",
        "ax2.plot(history.history['val_loss'])\n",
        "vline_cut = np.where(history.history['val_loss'] == np.min(history.history['val_loss']))[0][0]\n",
        "ax2.axvline(x=vline_cut, color='k', linestyle='--')\n",
        "ax2.set_title(\"Model Loss\")\n",
        "ax2.legend(['train', 'test'])\n",
        "plt.show()"
      ],
      "execution_count": 27,
      "outputs": [
        {
          "output_type": "display_data",
          "data": {
            "image/png": "[encoded data removed]",
            "text/plain": [
              "<Figure size 1080x360 with 2 Axes>"
            ]
          },
          "metadata": {
            "tags": [],
            "needs_background": "light"
          }
        }
      ]
    },
    {
      "cell_type": "code",
      "metadata": {
        "colab": {
          "base_uri": "https://localhost:8080/"
        },
        "id": "mekIZEpn-LwH",
        "outputId": "44e0e5b1-9399-46c5-b9c6-1531238059c2"
      },
      "source": [
        "#Model With stopwords and lemmatization training\n",
        "import logging, os\n",
        "\n",
        "logging.disable(logging.WARNING)\n",
        "os.environ[\"TF_CPP_MIN_LOG_LEVEL\"] = \"3\"###No warnings\n",
        "\n",
        "history=Model_bl.fit(X_train_padded_bl,\n",
        "                  bl[0][1],\n",
        "                  epochs=num_epochs,\n",
        "                  validation_data=(bl_X_test_padded, bl[1][1]),\n",
        "                  callbacks = [checkpoint, early],\n",
        "                  verbose=1)"
      ],
      "execution_count": 28,
      "outputs": [
        {
          "output_type": "stream",
          "text": [
            "Epoch 1/10\n",
            "313/313 [==============================] - 12s 38ms/step - loss: 0.6852 - acc: 0.5372 - val_loss: 0.6596 - val_acc: 0.5965\n",
            "Epoch 2/10\n",
            "313/313 [==============================] - 10s 33ms/step - loss: 0.5985 - acc: 0.6979 - val_loss: 0.6326 - val_acc: 0.6418\n",
            "Epoch 3/10\n",
            "313/313 [==============================] - 10s 33ms/step - loss: 0.4492 - acc: 0.8128 - val_loss: 0.6767 - val_acc: 0.6292\n",
            "Epoch 4/10\n",
            "313/313 [==============================] - 10s 33ms/step - loss: 0.3078 - acc: 0.8870 - val_loss: 0.8839 - val_acc: 0.6167\n",
            "Epoch 5/10\n",
            "313/313 [==============================] - 10s 33ms/step - loss: 0.2157 - acc: 0.9289 - val_loss: 1.0994 - val_acc: 0.6151\n",
            "Epoch 6/10\n",
            "313/313 [==============================] - 10s 33ms/step - loss: 0.1630 - acc: 0.9459 - val_loss: 1.2641 - val_acc: 0.6210\n",
            "Epoch 7/10\n",
            "313/313 [==============================] - 10s 33ms/step - loss: 0.1283 - acc: 0.9547 - val_loss: 1.8249 - val_acc: 0.6061\n",
            "Epoch 00007: early stopping\n"
          ],
          "name": "stdout"
        }
      ]
    },
    {
      "cell_type": "code",
      "metadata": {
        "colab": {
          "base_uri": "https://localhost:8080/",
          "height": 356
        },
        "id": "YBZL73kX-YlF",
        "outputId": "b2b7e4dc-a203-4337-ef97-5f7c8faf8811"
      },
      "source": [
        "# Graph\n",
        "\n",
        "import matplotlib.pyplot as plt\n",
        "fig, (ax1, ax2) = plt.subplots(1,2,figsize=(15,5))\n",
        "fig.suptitle(\"Performance\")\n",
        "ax1.plot(history.history['acc'])\n",
        "ax1.plot(history.history['val_acc'])\n",
        "vline_cut = np.where(history.history['val_acc'] == np.max(history.history['val_acc']))[0][0]\n",
        "ax1.axvline(x=vline_cut, color='k', linestyle='--')\n",
        "ax1.set_title(\"Model Accuracy\")\n",
        "ax1.legend(['train', 'test'])\n",
        "\n",
        "ax2.plot(history.history['loss'])\n",
        "ax2.plot(history.history['val_loss'])\n",
        "vline_cut = np.where(history.history['val_loss'] == np.min(history.history['val_loss']))[0][0]\n",
        "ax2.axvline(x=vline_cut, color='k', linestyle='--')\n",
        "ax2.set_title(\"Model Loss\")\n",
        "ax2.legend(['train', 'test'])\n",
        "plt.show()"
      ],
      "execution_count": 29,
      "outputs": [
        {
          "output_type": "display_data",
          "data": {
            "image/png": "[encoded data removed]",
            "text/plain": [
              "<Figure size 1080x360 with 2 Axes>"
            ]
          },
          "metadata": {
            "tags": [],
            "needs_background": "light"
          }
        }
      ]
    },
    {
      "cell_type": "code",
      "metadata": {
        "colab": {
          "base_uri": "https://localhost:8080/"
        },
        "id": "erZul3U7-Yp8",
        "outputId": "4430231f-c701-4f21-e5cf-e5f1dbef4feb"
      },
      "source": [
        "#Model Without stopwords and no lemmatization training\n",
        "import logging, os\n",
        "\n",
        "logging.disable(logging.WARNING)\n",
        "os.environ[\"TF_CPP_MIN_LOG_LEVEL\"] = \"3\"###No warnings\n",
        "\n",
        "history=Model_pnl.fit(X_train_padded_pnl,\n",
        "                  pnl[0][1],\n",
        "                  epochs=num_epochs,\n",
        "                  validation_data=(pnl_X_test_padded, pnl[1][1]),\n",
        "                  callbacks = [checkpoint, early],\n",
        "                  verbose=1)"
      ],
      "execution_count": 30,
      "outputs": [
        {
          "output_type": "stream",
          "text": [
            "Epoch 1/10\n",
            "313/313 [==============================] - 12s 39ms/step - loss: 0.6907 - acc: 0.5140 - val_loss: 0.6726 - val_acc: 0.5935\n",
            "Epoch 2/10\n",
            "313/313 [==============================] - 11s 35ms/step - loss: 0.6181 - acc: 0.6766 - val_loss: 0.6283 - val_acc: 0.6373\n",
            "Epoch 3/10\n",
            "313/313 [==============================] - 11s 35ms/step - loss: 0.4439 - acc: 0.8150 - val_loss: 0.7176 - val_acc: 0.6243\n",
            "Epoch 4/10\n",
            "313/313 [==============================] - 10s 33ms/step - loss: 0.2881 - acc: 0.8951 - val_loss: 0.9379 - val_acc: 0.6231\n",
            "Epoch 5/10\n",
            "313/313 [==============================] - 10s 33ms/step - loss: 0.1968 - acc: 0.9319 - val_loss: 1.2138 - val_acc: 0.6196\n",
            "Epoch 6/10\n",
            "313/313 [==============================] - 11s 34ms/step - loss: 0.1466 - acc: 0.9515 - val_loss: 1.4861 - val_acc: 0.6108\n",
            "Epoch 7/10\n",
            "313/313 [==============================] - 11s 35ms/step - loss: 0.1185 - acc: 0.9605 - val_loss: 1.4961 - val_acc: 0.6035\n",
            "Epoch 00007: early stopping\n"
          ],
          "name": "stdout"
        }
      ]
    },
    {
      "cell_type": "code",
      "metadata": {
        "colab": {
          "base_uri": "https://localhost:8080/",
          "height": 356
        },
        "id": "uOecArHS-L2v",
        "outputId": "e6d3ece8-9e03-4e60-c944-1941fe0832cc"
      },
      "source": [
        "# Graph\n",
        "\n",
        "import matplotlib.pyplot as plt\n",
        "fig, (ax1, ax2) = plt.subplots(1,2,figsize=(15,5))\n",
        "fig.suptitle(\"Performance\")\n",
        "ax1.plot(history.history['acc'])\n",
        "ax1.plot(history.history['val_acc'])\n",
        "vline_cut = np.where(history.history['val_acc'] == np.max(history.history['val_acc']))[0][0]\n",
        "ax1.axvline(x=vline_cut, color='k', linestyle='--')\n",
        "ax1.set_title(\"Model Accuracy\")\n",
        "ax1.legend(['train', 'test'])\n",
        "\n",
        "ax2.plot(history.history['loss'])\n",
        "ax2.plot(history.history['val_loss'])\n",
        "vline_cut = np.where(history.history['val_loss'] == np.min(history.history['val_loss']))[0][0]\n",
        "ax2.axvline(x=vline_cut, color='k', linestyle='--')\n",
        "ax2.set_title(\"Model Loss\")\n",
        "ax2.legend(['train', 'test'])\n",
        "plt.show()"
      ],
      "execution_count": 31,
      "outputs": [
        {
          "output_type": "display_data",
          "data": {
            "image/png": "[encoded data removed]",
            "text/plain": [
              "<Figure size 1080x360 with 2 Axes>"
            ]
          },
          "metadata": {
            "tags": [],
            "needs_background": "light"
          }
        }
      ]
    },
    {
      "cell_type": "code",
      "metadata": {
        "colab": {
          "base_uri": "https://localhost:8080/"
        },
        "id": "MR9MvHgs-ikN",
        "outputId": "9740a543-bcee-4b04-9d8a-dda758907c0f"
      },
      "source": [
        "#Model Without stopwords and lemmatization training\n",
        "import logging, os\n",
        "\n",
        "logging.disable(logging.WARNING)\n",
        "os.environ[\"TF_CPP_MIN_LOG_LEVEL\"] = \"3\"###No warnings\n",
        "\n",
        "history=Model_pl.fit(X_train_padded_pl,\n",
        "                  pl[0][1],\n",
        "                  epochs=num_epochs,\n",
        "                  validation_data=(pl_X_test_padded, pl[1][1]),\n",
        "                  callbacks = [checkpoint, early],\n",
        "                  verbose=1)"
      ],
      "execution_count": 32,
      "outputs": [
        {
          "output_type": "stream",
          "text": [
            "Epoch 1/10\n",
            "313/313 [==============================] - 12s 37ms/step - loss: 0.6893 - acc: 0.5245 - val_loss: 0.6615 - val_acc: 0.6110\n",
            "Epoch 2/10\n",
            "313/313 [==============================] - 10s 33ms/step - loss: 0.6085 - acc: 0.6832 - val_loss: 0.6271 - val_acc: 0.6463\n",
            "Epoch 3/10\n",
            "313/313 [==============================] - 10s 33ms/step - loss: 0.4518 - acc: 0.8090 - val_loss: 0.7158 - val_acc: 0.6459\n",
            "Epoch 4/10\n",
            "313/313 [==============================] - 11s 34ms/step - loss: 0.3097 - acc: 0.8886 - val_loss: 0.8645 - val_acc: 0.6212\n",
            "Epoch 5/10\n",
            "313/313 [==============================] - 10s 33ms/step - loss: 0.2120 - acc: 0.9287 - val_loss: 0.9936 - val_acc: 0.6184\n",
            "Epoch 6/10\n",
            "313/313 [==============================] - 10s 33ms/step - loss: 0.1593 - acc: 0.9460 - val_loss: 1.3790 - val_acc: 0.6127\n",
            "Epoch 7/10\n",
            "313/313 [==============================] - 10s 32ms/step - loss: 0.1207 - acc: 0.9596 - val_loss: 2.1519 - val_acc: 0.6118\n",
            "Epoch 00007: early stopping\n"
          ],
          "name": "stdout"
        }
      ]
    },
    {
      "cell_type": "code",
      "metadata": {
        "colab": {
          "base_uri": "https://localhost:8080/",
          "height": 356
        },
        "id": "N3nthyESISBC",
        "outputId": "8d215048-6270-472d-94ee-7a016e68ce72"
      },
      "source": [
        "# Graph\n",
        "\n",
        "import matplotlib.pyplot as plt\n",
        "fig, (ax1, ax2) = plt.subplots(1,2,figsize=(15,5))\n",
        "fig.suptitle(\"Performance\")\n",
        "ax1.plot(history.history['acc'])\n",
        "ax1.plot(history.history['val_acc'])\n",
        "vline_cut = np.where(history.history['val_acc'] == np.max(history.history['val_acc']))[0][0]\n",
        "ax1.axvline(x=vline_cut, color='k', linestyle='--')\n",
        "ax1.set_title(\"Model Accuracy\")\n",
        "ax1.legend(['train', 'test'])\n",
        "\n",
        "ax2.plot(history.history['loss'])\n",
        "ax2.plot(history.history['val_loss'])\n",
        "vline_cut = np.where(history.history['val_loss'] == np.min(history.history['val_loss']))[0][0]\n",
        "ax2.axvline(x=vline_cut, color='k', linestyle='--')\n",
        "ax2.set_title(\"Model Loss\")\n",
        "ax2.legend(['train', 'test'])\n",
        "plt.show()"
      ],
      "execution_count": 33,
      "outputs": [
        {
          "output_type": "display_data",
          "data": {
            "image/png": "[encoded data removed]",
            "text/plain": [
              "<Figure size 1080x360 with 2 Axes>"
            ]
          },
          "metadata": {
            "tags": [],
            "needs_background": "light"
          }
        }
      ]
    },
    {
      "cell_type": "markdown",
      "metadata": {
        "id": "9cMvYyevS6N6"
      },
      "source": [
        "As we can see, the best result is provided by the model without any preprocessing (NO stopwords removal, NO lemmatization). This is logical as we are studiyng sarcasms, which means that punctuation and conjugation are important."
      ]
    },
    {
      "cell_type": "markdown",
      "metadata": {
        "id": "0J2vRjvRTN7T"
      },
      "source": [
        "On voit grace aux graphes, que le meilleur résultat est obtenu avec le modèle sans lemmatisation et en gardant les stops Words. C'est logique, car dans l'étude de sarcasme la punctuation et la conjugaison des mots sont importantes, ainsi que les stop words."
      ]
    }
  ]
}